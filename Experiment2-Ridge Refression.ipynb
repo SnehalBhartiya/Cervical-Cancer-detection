{
 "cells": [
  {
   "cell_type": "code",
   "execution_count": 108,
   "metadata": {},
   "outputs": [],
   "source": [
    "%matplotlib inline\n",
    "import glob\n",
    "import matplotlib\n",
    "from matplotlib import pyplot as plt\n",
    "import matplotlib.image as mpimg\n",
    "import numpy as np\n",
    "#import imageio as im\n",
    "from keras import models\n",
    "from keras.models import Sequential\n",
    "from keras.layers import Conv2D, MaxPooling2D, Flatten, Dense, Dropout\n",
    "from keras.preprocessing import image\n",
    "from keras.preprocessing.image import ImageDataGenerator\n",
    "from keras.callbacks import ModelCheckpoint\n",
    "from keras.regularizers import l2"
   ]
  },
  {
   "cell_type": "code",
   "execution_count": 109,
   "metadata": {},
   "outputs": [],
   "source": [
    "#Lets take a look at our directory\n",
    "import os, shutil\n",
    "import numpy as np\n",
    "import matplotlib.pyplot as plt\n",
    "import os\n",
    "from tqdm import tqdm\n",
    "import cv2\n"
   ]
  },
  {
   "cell_type": "code",
   "execution_count": 110,
   "metadata": {},
   "outputs": [],
   "source": [
    "\n",
    "DATADIR=\"/home/pranay/binary_images\"\n",
    "CATEGORIES=['cancerous','non_cancerous']\n",
    "\n",
    "\n"
   ]
  },
  {
   "cell_type": "code",
   "execution_count": 111,
   "metadata": {},
   "outputs": [
    {
     "name": "stderr",
     "output_type": "stream",
     "text": [
      "100%|██████████| 675/675 [00:00<00:00, 3187.80it/s]\n",
      "100%|██████████| 242/242 [00:00<00:00, 2206.12it/s]"
     ]
    },
    {
     "name": "stdout",
     "output_type": "stream",
     "text": [
      "917\n"
     ]
    },
    {
     "name": "stderr",
     "output_type": "stream",
     "text": [
      "\n"
     ]
    }
   ],
   "source": [
    "training_data = []\n",
    "IMG_SIZE = 150\n",
    "def create_training_data():\n",
    "    for category in CATEGORIES:\n",
    "\n",
    "        path = os.path.join(DATADIR,category)  # create path to dogs and \n",
    "        class_num = CATEGORIES.index(category)  # get the classification  (0 or a 1). 0=dog 1=cat\n",
    "\n",
    "        for img in tqdm(os.listdir(path)):  # iterate over each image per dogs and cats\n",
    "            try:\n",
    "                img_array = cv2.imread(os.path.join(path,img))  # convert to array\n",
    "                new_array = cv2.resize(img_array, (IMG_SIZE, IMG_SIZE))  # resize to normalize data size\n",
    "                training_data.append([new_array, class_num])  # add this to our training_data\n",
    "            except Exception as e:  # in the interest in keeping the output clean...\n",
    "                pass\n",
    "\n",
    "create_training_data()\n",
    "\n",
    "print(len(training_data))\n",
    "\n"
   ]
  },
  {
   "cell_type": "code",
   "execution_count": 112,
   "metadata": {},
   "outputs": [],
   "source": [
    "import random\n",
    "random.shuffle(training_data)\n",
    "\n",
    "#reshuffling the data to reshuffle and make the data even thrroughout"
   ]
  },
  {
   "cell_type": "code",
   "execution_count": 113,
   "metadata": {},
   "outputs": [],
   "source": [
    "#making the data in terms of arrays\n",
    "\n",
    "X = []\n",
    "y = []\n",
    "\n",
    "for features,label in training_data:\n",
    "    X.append(features)\n",
    "    y.append(label)\n",
    "\n",
    "X = np.array(X).reshape(-1, IMG_SIZE, IMG_SIZE, 3)\n",
    "\n",
    "#feeding images and preparing data\n",
    "img_shape = (100, 100,3)"
   ]
  },
  {
   "cell_type": "code",
   "execution_count": 114,
   "metadata": {},
   "outputs": [],
   "source": [
    "\n",
    "#Convert list to numpy array\n",
    "X = np.array(X)\n",
    "y = np.array(y)\n",
    "\n",
    "#Lets plot the label to be sure we just haveda"
   ]
  },
  {
   "cell_type": "code",
   "execution_count": 115,
   "metadata": {},
   "outputs": [
    {
     "name": "stdout",
     "output_type": "stream",
     "text": [
      "Shape of train images is: (917, 150, 150, 3)\n",
      "Shape of labels is: (917,)\n"
     ]
    }
   ],
   "source": [
    "print(\"Shape of train images is:\", X.shape)\n",
    "print(\"Shape of labels is:\", y.shape)"
   ]
  },
  {
   "cell_type": "code",
   "execution_count": 116,
   "metadata": {},
   "outputs": [],
   "source": [
    "#Lets split the data into train and test set\n",
    "from sklearn.model_selection import train_test_split\n",
    "\n",
    "X_train, X_val, y_train, y_val = train_test_split(X, y, test_size=0.20, random_state=2)"
   ]
  },
  {
   "cell_type": "code",
   "execution_count": 117,
   "metadata": {},
   "outputs": [],
   "source": [
    "ntrain = len(X_train)\n",
    "nval = len(X_val)\n",
    "\n",
    "#We will use a batch size of 32. Note: batch size should be a factor of 2.***4,8,16,32,64...***\n",
    "batch_size = 32  "
   ]
  },
  {
   "cell_type": "code",
   "execution_count": 118,
   "metadata": {},
   "outputs": [],
   "source": [
    "\n",
    "from keras import layers\n",
    "from keras import models\n",
    "from tensorflow.keras.models import Sequential\n",
    "from tensorflow.keras.layers import Dense, Dropout, Activation, Flatten\n",
    "from tensorflow.keras.layers import Conv2D, MaxPooling2D\n",
    "from tensorflow.keras.callbacks import TensorBoard\n"
   ]
  },
  {
   "cell_type": "code",
   "execution_count": 119,
   "metadata": {},
   "outputs": [],
   "source": [
    "# # Initialising the CNN without regularizers\n",
    "# classifier = Sequential()\n",
    "\n",
    "# classifier.add(Conv2D(32, (3, 3), padding='same', input_shape = (150,150,3), activation = 'relu'))\n",
    "# classifier.add(MaxPooling2D(pool_size=(2, 2)))\n",
    "\n",
    "# # Adding a second convolutional layer\n",
    "# classifier.add(Conv2D(64, (3, 3), padding='same', activation = 'relu'))\n",
    "# classifier.add(MaxPooling2D(pool_size=(2, 2)))\n",
    "\n",
    "# # Step 3 - Flattening\n",
    "# classifier.add(Flatten())\n",
    "\n",
    "# # Step 4 - Full connection\n",
    "# classifier.add(Dense(units = 64, activation = 'relu'))\n",
    "# classifier.add(Dense(units = 2, activation = 'softmax'))"
   ]
  },
  {
   "cell_type": "code",
   "execution_count": 120,
   "metadata": {},
   "outputs": [],
   "source": [
    "# Initialising the CNN with regularizers\n",
    "classifier = Sequential()\n",
    "\n",
    "classifier.add(Conv2D(32, (3, 3), padding='same', input_shape = (150,150,3), activation = 'relu',kernel_regularizer=l2(0.01), bias_regularizer=l2(0.01)))\n",
    "classifier.add(MaxPooling2D(pool_size=(2, 2)))\n",
    "\n",
    "# Adding a second convolutional layer\n",
    "classifier.add(Conv2D(64, (3, 3), padding='same', activation = 'relu',kernel_regularizer=l2(0.01), bias_regularizer=l2(0.01)))\n",
    "classifier.add(MaxPooling2D(pool_size=(2, 2)))\n",
    "\n",
    "# Step 3 - Flattening\n",
    "classifier.add(Flatten())\n",
    "\n",
    "# Step 4 - Full connection\n",
    "classifier.add(Dense(units = 64, activation = 'relu',kernel_regularizer=l2(0.01), bias_regularizer=l2(0.01)))\n",
    "classifier.add(Dense(units = 2, activation = 'softmax'))"
   ]
  },
  {
   "cell_type": "code",
   "execution_count": 121,
   "metadata": {},
   "outputs": [],
   "source": [
    "from tensorflow.keras import optimizers\n",
    "\n",
    "classifier.compile(loss='sparse_categorical_crossentropy', optimizer=optimizers.Adam(lr=2e-6), metrics=['acc'])\n",
    "\n"
   ]
  },
  {
   "cell_type": "code",
   "execution_count": 122,
   "metadata": {},
   "outputs": [],
   "source": [
    "\n",
    "#Lets create the augmentation configuration\n",
    "#This helps prevent overfitting, since we are using a small dataset\n",
    "from keras.preprocessing.image import ImageDataGenerator\n",
    "from keras.preprocessing.image import img_to_array, load_img\n",
    "\n",
    "train_datagen = ImageDataGenerator(rescale=1./255,   #Scale the image between 0 and 1\n",
    "                                    rotation_range=40,\n",
    "                                    width_shift_range=0.2,\n",
    "                                    height_shift_range=0.2,\n",
    "                                    shear_range=0.2,\n",
    "                                    zoom_range=0.2,\n",
    "                                    horizontal_flip=True,\n",
    "                                    fill_mode='nearest')\n",
    "\n",
    "val_datagen = ImageDataGenerator(rescale=1./255)  #We do not augment validation data. we only perform rescale\n",
    "\n"
   ]
  },
  {
   "cell_type": "code",
   "execution_count": 123,
   "metadata": {},
   "outputs": [],
   "source": [
    "\n",
    "#Create the image generators\n",
    "train_generator = train_datagen.flow(X_train, y_train,batch_size=batch_size)\n",
    "val_generator = val_datagen.flow(X_val, y_val, batch_size=batch_size)\n",
    "\n"
   ]
  },
  {
   "cell_type": "code",
   "execution_count": 124,
   "metadata": {},
   "outputs": [
    {
     "name": "stdout",
     "output_type": "stream",
     "text": [
      "Epoch 1/25\n",
      "22/22 [==============================] - 7s 298ms/step - loss: 2.3972 - acc: 0.6434 - val_loss: 2.3226 - val_acc: 0.7625\n",
      "Epoch 2/25\n",
      "22/22 [==============================] - 5s 237ms/step - loss: 2.3410 - acc: 0.7190 - val_loss: 2.2941 - val_acc: 0.7625\n",
      "Epoch 3/25\n",
      "22/22 [==============================] - 5s 236ms/step - loss: 2.3154 - acc: 0.7332 - val_loss: 2.2768 - val_acc: 0.7625\n",
      "Epoch 4/25\n",
      "22/22 [==============================] - 5s 241ms/step - loss: 2.3115 - acc: 0.7175 - val_loss: 2.2624 - val_acc: 0.7625\n",
      "Epoch 5/25\n",
      "22/22 [==============================] - 5s 241ms/step - loss: 2.2839 - acc: 0.7332 - val_loss: 2.2466 - val_acc: 0.7625\n",
      "Epoch 6/25\n",
      "22/22 [==============================] - 5s 239ms/step - loss: 2.2752 - acc: 0.7190 - val_loss: 2.2299 - val_acc: 0.7625\n",
      "Epoch 7/25\n",
      "22/22 [==============================] - 5s 237ms/step - loss: 2.2477 - acc: 0.7358 - val_loss: 2.2116 - val_acc: 0.7625\n",
      "Epoch 8/25\n",
      "22/22 [==============================] - 5s 240ms/step - loss: 2.2371 - acc: 0.7318 - val_loss: 2.1963 - val_acc: 0.7625\n",
      "Epoch 9/25\n",
      "22/22 [==============================] - 5s 237ms/step - loss: 2.2351 - acc: 0.7163 - val_loss: 2.1847 - val_acc: 0.7625\n",
      "Epoch 10/25\n",
      "22/22 [==============================] - 5s 241ms/step - loss: 2.1984 - acc: 0.7372 - val_loss: 2.1644 - val_acc: 0.7625\n",
      "Epoch 11/25\n",
      "22/22 [==============================] - 5s 239ms/step - loss: 2.2020 - acc: 0.7163 - val_loss: 2.1517 - val_acc: 0.7625\n",
      "Epoch 12/25\n",
      "22/22 [==============================] - 5s 237ms/step - loss: 2.1668 - acc: 0.7401 - val_loss: 2.1344 - val_acc: 0.7625\n",
      "Epoch 13/25\n",
      "22/22 [==============================] - 5s 238ms/step - loss: 2.1823 - acc: 0.7077 - val_loss: 2.1250 - val_acc: 0.7625\n",
      "Epoch 14/25\n",
      "22/22 [==============================] - 5s 236ms/step - loss: 2.1384 - acc: 0.7443 - val_loss: 2.1045 - val_acc: 0.7625\n",
      "Epoch 15/25\n",
      "22/22 [==============================] - 5s 235ms/step - loss: 2.1254 - acc: 0.7361 - val_loss: 2.0907 - val_acc: 0.7625\n",
      "Epoch 16/25\n",
      "22/22 [==============================] - 5s 236ms/step - loss: 2.1436 - acc: 0.7049 - val_loss: 2.0811 - val_acc: 0.7625\n",
      "Epoch 17/25\n",
      "22/22 [==============================] - 5s 242ms/step - loss: 2.1105 - acc: 0.7259 - val_loss: 2.0626 - val_acc: 0.7625\n",
      "Epoch 18/25\n",
      "22/22 [==============================] - 5s 234ms/step - loss: 2.0821 - acc: 0.7364 - val_loss: 2.0480 - val_acc: 0.7625\n",
      "Epoch 19/25\n",
      "22/22 [==============================] - 5s 237ms/step - loss: 2.0708 - acc: 0.7347 - val_loss: 2.0348 - val_acc: 0.7625\n",
      "Epoch 20/25\n",
      "22/22 [==============================] - 5s 240ms/step - loss: 2.0804 - acc: 0.7102 - val_loss: 2.0236 - val_acc: 0.7625\n",
      "Epoch 21/25\n",
      "22/22 [==============================] - 5s 235ms/step - loss: 2.0488 - acc: 0.7364 - val_loss: 2.0082 - val_acc: 0.7625\n",
      "Epoch 22/25\n",
      "22/22 [==============================] - 5s 242ms/step - loss: 2.0398 - acc: 0.7259 - val_loss: 1.9951 - val_acc: 0.7625\n",
      "Epoch 23/25\n",
      "22/22 [==============================] - 5s 234ms/step - loss: 2.0231 - acc: 0.7290 - val_loss: 1.9806 - val_acc: 0.7625\n",
      "Epoch 24/25\n",
      "22/22 [==============================] - 5s 236ms/step - loss: 2.0142 - acc: 0.7261 - val_loss: 1.9686 - val_acc: 0.7625\n",
      "Epoch 25/25\n",
      "22/22 [==============================] - 5s 243ms/step - loss: 1.9991 - acc: 0.7304 - val_loss: 1.9562 - val_acc: 0.7625\n"
     ]
    }
   ],
   "source": [
    "#The training part\n",
    "#We train for 64 epochs with about 100 steps per epoch\n",
    "\n",
    "history = classifier.fit_generator(train_generator,\n",
    "                              steps_per_epoch=ntrain // batch_size,\n",
    "                              epochs=25,\n",
    "                              validation_data=val_generator,\n",
    "                              validation_steps=nval //batch_size)\n",
    "\n",
    "\n"
   ]
  },
  {
   "cell_type": "code",
   "execution_count": 125,
   "metadata": {},
   "outputs": [],
   "source": [
    "# #lets plot the train and val curve\n",
    "# import matplotlib.pyplot as plt\n",
    "\n",
    "# #get the details form the history object\n",
    "# acc = history.history['acc']\n",
    "# val_acc = history.history['val_acc']\n",
    "# loss = history.history['loss']\n",
    "# val_loss = history.history['val_loss']\n",
    "\n",
    "# epochs = range(1, len(acc) + 1)\n",
    "\n",
    "# #Train and validation accuracy\n",
    "# plt.plot(epochs, acc, 'b', label='Training accurarcy')\n",
    "# plt.plot(epochs, val_acc, 'r', label='Validation accurarcy')\n",
    "# plt.title('Training and Validation accurarcy')\n",
    "# plt.legend()\n",
    "\n",
    "# plt.figure()\n",
    "# #Train and validation loss\n",
    "# plt.plot(epochs, loss, 'b', label='Training loss')\n",
    "# plt.plot(epochs, val_loss, 'r', label='Validation loss')\n",
    "# plt.title('Training and Validation loss')\n",
    "# plt.legend()\n",
    "\n",
    "# plt.show()\n"
   ]
  },
  {
   "cell_type": "code",
   "execution_count": 130,
   "metadata": {},
   "outputs": [
    {
     "data": {
      "image/png": "[encoded data removed]",
      "text/plain": [
       "<Figure size 432x288 with 1 Axes>"
      ]
     },
     "metadata": {
      "needs_background": "light"
     },
     "output_type": "display_data"
    },
    {
     "data": {
      "image/png": "[encoded data removed]",
      "text/plain": [
       "<Figure size 432x288 with 1 Axes>"
      ]
     },
     "metadata": {
      "needs_background": "light"
     },
     "output_type": "display_data"
    }
   ],
   "source": [
    "#with regularizer\n",
    "#lets plot the train and val curve\n",
    "import matplotlib.pyplot as plt\n",
    "\n",
    "#get the details form the history object\n",
    "acc = history.history['acc']\n",
    "val_acc = history.history['val_acc']\n",
    "loss = history.history['loss']\n",
    "val_loss = history.history['val_loss']\n",
    "\n",
    "epochs = range(1, len(acc) + 1)\n",
    "\n",
    "#Train and validation accuracy\n",
    "plt.plot(epochs, acc, 'b', label='Training accurarcy')\n",
    "plt.plot(epochs, val_acc, 'r', label='Validation accurarcy')\n",
    "plt.title('Accurarcy(with regularizer) v/s epochs')\n",
    "plt.savefig('Experiment2-accuracy')\n",
    "plt.legend()\n",
    "\n",
    "plt.figure()\n",
    "#Train and validation loss\n",
    "plt.plot(epochs, loss, 'b', label='Training loss')\n",
    "plt.plot(epochs, val_loss, 'r', label='Validation loss')\n",
    "plt.title('Loss(with regularizer)  v/s epochs')\n",
    "plt.legend()\n",
    "\n",
    "plt.savefig('Experiment2-loss')  \n",
    "\n",
    "\n"
   ]
  },
  {
   "cell_type": "code",
   "execution_count": 127,
   "metadata": {},
   "outputs": [
    {
     "data": {
      "image/png": "[encoded data removed]",
      "text/plain": [
       "<Figure size 432x288 with 1 Axes>"
      ]
     },
     "metadata": {
      "needs_background": "light"
     },
     "output_type": "display_data"
    }
   ],
   "source": [
    "def smooth_plot(points, factor=0.7):\n",
    "    smooth_pts = []\n",
    "    for point in points:\n",
    "        if smooth_pts:\n",
    "            previous = smooth_pts[-1]\n",
    "            smooth_pts.append(previous * factor + point * (1 - factor))\n",
    "        else:\n",
    "            smooth_pts.append(point)\n",
    "    return smooth_pts\n",
    "\n",
    "#Plot figure\n",
    "plt.plot(epochs, smooth_plot(acc), 'b', label='Training accurarcy')\n",
    "plt.plot(epochs, smooth_plot(val_acc), 'r', label='Validation accurarcy')\n",
    "plt.title('Training and Validation accurarcy')\n",
    "plt.legend()\n",
    "plt.show()\n"
   ]
  }
 ],
 "metadata": {
  "kernelspec": {
   "display_name": "Python 3",
   "language": "python",
   "name": "python3"
  },
  "language_info": {
   "codemirror_mode": {
    "name": "ipython",
    "version": 3
   },
   "file_extension": ".py",
   "mimetype": "text/x-python",
   "name": "python",
   "nbconvert_exporter": "python",
   "pygments_lexer": "ipython3",
   "version": "3.6.9"
  }
 },
 "nbformat": 4,
 "nbformat_minor": 2
}
